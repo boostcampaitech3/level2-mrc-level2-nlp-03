{
 "cells": [
  {
   "cell_type": "code",
   "execution_count": 1,
   "id": "e0d8ee93-c235-4272-8192-928b278a1f74",
   "metadata": {},
   "outputs": [],
   "source": [
    "#https://huggingface.co/docs/transformers/add_new_model"
   ]
  },
  {
   "cell_type": "code",
   "execution_count": null,
   "id": "cbdc0b2a-1f73-437a-b96a-ab1bea256962",
   "metadata": {},
   "outputs": [],
   "source": []
  }
 ],
 "metadata": {
  "kernelspec": {
   "display_name": "Python 3 (ipykernel)",
   "language": "python",
   "name": "python3"
  },
  "language_info": {
   "codemirror_mode": {
    "name": "ipython",
    "version": 3
   },
   "file_extension": ".py",
   "mimetype": "text/x-python",
   "name": "python",
   "nbconvert_exporter": "python",
   "pygments_lexer": "ipython3",
   "version": "3.8.5"
  }
 },
 "nbformat": 4,
 "nbformat_minor": 5
}
