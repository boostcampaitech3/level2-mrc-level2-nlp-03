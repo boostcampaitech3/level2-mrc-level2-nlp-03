{
 "cells": [
  {
   "cell_type": "code",
   "execution_count": 1,
   "id": "39ea3c93-c442-4068-bbab-c1e51f1ebe33",
   "metadata": {},
   "outputs": [
    {
     "name": "stderr",
     "output_type": "stream",
     "text": [
      "/opt/conda/lib/python3.8/site-packages/tqdm/auto.py:22: TqdmWarning: IProgress not found. Please update jupyter and ipywidgets. See https://ipywidgets.readthedocs.io/en/stable/user_install.html\n",
      "  from .autonotebook import tqdm as notebook_tqdm\n"
     ]
    }
   ],
   "source": [
    "### Tokenizer call\n",
    "from transformers import AutoTokenizer\n",
    "name = 'klue/bert-base'"
   ]
  },
  {
   "cell_type": "code",
   "execution_count": 8,
   "id": "14bb6dec-e90e-4cbd-a87a-1ab49051cec0",
   "metadata": {},
   "outputs": [],
   "source": [
    "tokenizer = AutoTokenizer.from_pretrained(name,\n",
    "                                           max_len=10,\n",
    "                                          use_fast=True)"
   ]
  },
  {
   "cell_type": "code",
   "execution_count": 9,
   "id": "71d8a445-baf6-42ee-b8d5-ab39ddb4b7d8",
   "metadata": {},
   "outputs": [
    {
     "data": {
      "text/plain": [
       "PreTrainedTokenizerFast(name_or_path='klue/bert-base', vocab_size=32000, model_max_len=512, is_fast=True, padding_side='right', truncation_side='right', special_tokens={'unk_token': '[UNK]', 'sep_token': '[SEP]', 'pad_token': '[PAD]', 'cls_token': '[CLS]', 'mask_token': '[MASK]'})"
      ]
     },
     "execution_count": 9,
     "metadata": {},
     "output_type": "execute_result"
    }
   ],
   "source": [
    "tokenizer.model_max_len=10\n",
    "tokenizer"
   ]
  },
  {
   "cell_type": "code",
   "execution_count": 13,
   "id": "353fbcd8-84bb-48c5-b0df-31b1f161aa6f",
   "metadata": {},
   "outputs": [],
   "source": [
    "tokenizer.max_len=10"
   ]
  },
  {
   "cell_type": "code",
   "execution_count": 14,
   "id": "a16d5bca-e634-483a-b147-230cab8b81b5",
   "metadata": {},
   "outputs": [
    {
     "data": {
      "text/plain": [
       "<bound method PreTrainedTokenizerBase.__repr__ of PreTrainedTokenizerFast(name_or_path='klue/bert-base', vocab_size=32000, model_max_len=512, is_fast=True, padding_side='right', truncation_side='right', special_tokens={'unk_token': '[UNK]', 'sep_token': '[SEP]', 'pad_token': '[PAD]', 'cls_token': '[CLS]', 'mask_token': '[MASK]'})>"
      ]
     },
     "execution_count": 14,
     "metadata": {},
     "output_type": "execute_result"
    }
   ],
   "source": [
    "tokenizer.__repr__\n",
    "# 질문하자..\n",
    "# model_max_length 쓰이는거랑..\n",
    "# https://github.com/huggingface/transformers/blob/main/src/transformers/tokenization_utils_base.py"
   ]
  },
  {
   "cell_type": "code",
   "execution_count": 17,
   "id": "1fd0281b-b2dd-4714-971e-69d337c32e57",
   "metadata": {},
   "outputs": [
    {
     "data": {
      "text/plain": [
       "510"
      ]
     },
     "execution_count": 17,
     "metadata": {},
     "output_type": "execute_result"
    }
   ],
   "source": [
    "tokenizer.max_len_single_sentence"
   ]
  },
  {
   "cell_type": "code",
   "execution_count": null,
   "id": "e31ab9eb-c67a-43f0-98a5-982dd0d3692e",
   "metadata": {},
   "outputs": [],
   "source": [
    "sentence = ['이 생겼을 때, 아주 당연하게 검색엔진을 활용하여 검색을 합니다. 이런 검색엔진은 최근 MRC (기계독해) 기술을 활용하며 매일 발전하고 있는데요. 본 대회에서는 우리가 당연하게 활용하던 검색엔진, \\\n",
    "                그것과 유사한 형태의 시스템을 만들어 볼 것입니다. \\\n",
    "               이 생겼을 때, 아주 당연하게 검색엔진을 활용하여 검색을 합니다. 이런 검색엔진은 최근 MRC (기계독해) 기술을 활용하며 매일 발전하고 있는데요. 본 대회에서는 우리가 당연하게 활용하던 검색엔진, \\\n",
    "                그것과 유사한 형태의 시스템을 만들어 볼 것입니다. \\\n",
    "                이 생겼을 때, 아주 당연하게 검색엔진을 활용하여 검색을 합니다. 이런 검색엔진은 최근 MRC (기계독해) 기술을 활용하며 매일 발전하고 있는데요. 본 대회에서는 우리가 당연하게 활용하던 검색엔진, \\\n",
    "                그것과 유사한 형태의 시스템을 만들어 볼 것입니다. \\\n",
    "                이 생겼을 때, 아주 당연하게 검색엔진을 활용하여 검색을 합니다. 이런 검색엔진은 최근 MRC (기계독해) 기술을 활용하며 매일 발전하고 있는데요. 본 대회에서는 우리가 당연하게 활용하던 검색엔진, \\\n",
    "                그것과 유사한 형태의 시스템을 만들어 볼 것입니다. \\\n",
    "                이 생겼을 때, 아주 당연하게 검색엔진을 활용하여 검색을 합니다. 이런 검색엔진은 최근 MRC (기계독해) 기술을 활용하며 매일 발전하고 있는데요. 본 대회에서는 우리가 당연하게 활용하던 검색엔진, \\\n",
    "                그것과 유사한 형태의 시스템을 만들어 볼 것입니다. \\\n",
    "                이 생겼을 때, 아주 당연하게 검색엔진을 활용하여 검색을 합니다. 이런 검색엔진은 최근 MRC (기계독해) 기술을 활용하며 매일 발전하고 있는데요. 본 대회에서는 우리가 당연하게 활용하던 검색엔진, \\\n",
    "                그것과 유사한 형태의 시스템을 만들어 볼 것입니다. \\\n",
    "                것과 유사한 형태의 시스템을 만들어 볼 것입니다. \\\n",
    "                이 생겼을 때, 아주 당연하게 검색엔진을 활용하여 검색을 합니다. 이런 검색엔진은 최근 MRC (기계독해) 기술을 활용하며 매일 발전하고 있는데요. 본 대회에서는 우리가 당연하게 활용하던 검색엔진, \\\n",
    "                그것과 유사한 형태의 시스템을 만들어 볼 것입니다. \\\n",
    "                이 생겼을 때, 아주 당연하게 검색엔진을 활용하여 검색을 합니다. 이런 검색엔진은 최근 MRC (기계독해) 기술을 활용하며 매일 발전하고 있는데요. 본 대회에서는 우리가 당연하게 활용하던 검색엔진, \\\n",
    "                그것과 유사한 형태의 시스템을 만들어 볼 것입니다. \\\n",
    "                이 생겼을 때, 아주 당연하게 검색엔진을 활용하여 검색을 합니다. 이런 검색엔진은 최근 MRC (기계독해) 기술을 활용하며 매일 발전하고 있는데요. 본 대회에서는 우리가 당연하게 활용하던 검색엔진, \\\n",
    "                그것과 유사한 형태의 시스템을 만들어 볼 것입니다.']"
   ]
  }
 ],
 "metadata": {
  "kernelspec": {
   "display_name": "Python 3 (ipykernel)",
   "language": "python",
   "name": "python3"
  },
  "language_info": {
   "codemirror_mode": {
    "name": "ipython",
    "version": 3
   },
   "file_extension": ".py",
   "mimetype": "text/x-python",
   "name": "python",
   "nbconvert_exporter": "python",
   "pygments_lexer": "ipython3",
   "version": "3.8.5"
  }
 },
 "nbformat": 4,
 "nbformat_minor": 5
}
